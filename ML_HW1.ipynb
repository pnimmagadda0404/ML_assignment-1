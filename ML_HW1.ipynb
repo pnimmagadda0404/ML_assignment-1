{
 "cells": [
  {
   "cell_type": "code",
   "execution_count": 17,
   "id": "22d2babd",
   "metadata": {},
   "outputs": [
    {
     "name": "stdout",
     "output_type": "stream",
     "text": [
      "Given list :  [19, 22, 19, 24, 20, 25, 26, 24, 25, 24]\n",
      "After Sorting :  [19, 19, 20, 22, 24, 24, 24, 25, 25, 26]\n",
      "Minimum Element :  19\n",
      "Maximum Element : 26\n",
      "List after Appending the min value :  [19, 19, 20, 22, 24, 24, 24, 25, 25, 26, 19]\n",
      "List after Appending the min value :  [19, 19, 20, 22, 24, 24, 24, 25, 25, 26, 19, 26]\n",
      "Average Element :  22.75\n",
      "The Range of Ages :  7\n"
     ]
    }
   ],
   "source": [
    "#Question 1\n",
    "\n",
    "# The following given list was taken \n",
    "\n",
    "ages = [19, 22, 19, 24, 20, 25, 26, 24, 25, 24]\n",
    "\n",
    "print(\"Given list : \" , ages)\n",
    "\n",
    "# Sorting the list using the sort() function\n",
    "\n",
    "ages.sort()\n",
    "\n",
    "#Displying the sorted list \n",
    "\n",
    "print(\"After Sorting : \",ages)\n",
    "\n",
    "#displaying the min element in list\n",
    "\n",
    "print(\"Minimum Element : \",min(ages))\n",
    "\n",
    "#Determining length to print the max value using len() function\n",
    "\n",
    "listlen = len(ages)\n",
    "\n",
    "#displying max element in the list\n",
    "\n",
    "print(\"Maximum Element :\", max(ages))\n",
    "\n",
    "#appending min element in the list\n",
    "\n",
    "mi=min(ages)\n",
    "ages.append(mi)\n",
    "print(\"List after Appending the min value : \",ages)\n",
    "\n",
    "#appending max element in the list\n",
    "\n",
    "ma=max(ages)\n",
    "ages.append(ma)\n",
    "print(\"List after Appending the min value : \",ages)\n",
    "\n",
    "# Displaying Average \n",
    "\n",
    "print(\"Average Element : \",sum(ages)/len(ages))\n",
    "\n",
    "# The Range of ages is\n",
    "\n",
    "print(\"The Range of Ages : \", ages[len(ages)-1]-ages[0])"
   ]
  },
  {
   "cell_type": "code",
   "execution_count": 7,
   "id": "77fd4fa8",
   "metadata": {},
   "outputs": [
    {
     "name": "stdout",
     "output_type": "stream",
     "text": [
      "dog :  {'name': 'Bruno', 'color': 'Brown', 'breed': 'Beagle', 'legs': 4, 'age': 2}\n",
      "Length of dictonary :  9\n",
      "Skills :  ['C#', 'Dot Net', 'Angular'] and Data type of skills :  <class 'list'>\n",
      "After Adding another Skill :  ['C#', 'Dot Net', 'Angular', 'Sql']\n",
      "Student keys are :  dict_keys(['first_name', 'last_name', 'gender', 'age', 'marital_status', 'skills', 'country', 'city', 'address'])\n",
      "Student values are :  dict_values(['Priyanka', 'Nimmagadda', 'Female', 24, 'unmarried', ['C#', 'Dot Net', 'Angular', 'Sql'], 'USA', 'kansas city', '7507 W 140th St Apt 902 kansas 66223'])\n"
     ]
    }
   ],
   "source": [
    "#Question 2\n",
    "\n",
    "#Declaring the dictionary\n",
    "\n",
    "dog = {\n",
    "    \"name\" : \"Bruno\"  ,\n",
    "    \"color\" : \"Brown\",\n",
    "    \"breed\" : \"Beagle\" ,\n",
    "    \"legs\" : 4,\n",
    "    \"age\" : 2\n",
    "}\n",
    "\n",
    "print(\"dog : \",dog)\n",
    "\n",
    "student = {\n",
    "    \"first_name\" : \"Priyanka\",\n",
    "    \"last_name\" : \"Nimmagadda\",\n",
    "    \"gender\" : \"Female\",\n",
    "    \"age\" : 24,\n",
    "    \"marital_status\" : \"unmarried\",\n",
    "    \"skills\" : [\"C#\", \"Dot Net\" , \"Angular\"],\n",
    "    \"country\" : \"USA\",\n",
    "    \"city\" : \"kansas city\",\n",
    "    \"address\" : \"7507 W 140th St Apt 902 kansas 66223\"\n",
    "}\n",
    "\n",
    "\n",
    "#Length of student dictonary\n",
    "\n",
    "print(\"Length of dictonary : \",len(student))\n",
    "\n",
    "#Values of skills and data type of skills key\n",
    "\n",
    "print(\"Skills : \",student[\"skills\"],\"and Data type of skills : \",type(student[\"skills\"]))\n",
    "\n",
    "# Adding items to skills list in dictionary\n",
    "\n",
    "student[\"skills\"].append(\"Sql\")\n",
    "\n",
    "print(\"After Adding another Skill : \",student[\"skills\"])\n",
    "\n",
    "#printing keys of student\n",
    "\n",
    "print(\"Student keys are : \",student.keys())\n",
    "\n",
    "#Printing Values of student\n",
    "\n",
    "print(\"Student values are : \",student.values())"
   ]
  },
  {
   "cell_type": "code",
   "execution_count": 1,
   "id": "1277d864",
   "metadata": {},
   "outputs": [
    {
     "name": "stdout",
     "output_type": "stream",
     "text": [
      "Brothers :  ('shiva', 'john', 'karthik')\n",
      "Sisters :  ('haneesha', 'lahari')\n",
      "Total Siblings :  5\n",
      "Family Members :  ('shiva', 'john', 'karthik', 'haneesha', 'lahari', 'madhavi', 'krishna')\n"
     ]
    }
   ],
   "source": [
    "#Question 3\n",
    "\n",
    "#Declaring tuble brother\n",
    "brothers = (\"shiva\", \"john\", \"karthik\")\n",
    "print(\"Brothers : \",brothers)\n",
    "\n",
    "sisters = (\"haneesha\", \"lahari\")\n",
    "print(\"Sisters : \",sisters)\n",
    "\n",
    "#Adding brothers and sisters\n",
    "\n",
    "siblings = brothers + sisters\n",
    "\n",
    "#Total siblings\n",
    "print(\"Total Siblings : \", len(siblings))\n",
    "\n",
    "#adding mother and father name\n",
    "\n",
    "y = list(siblings)\n",
    "y.append(\"madhavi\")\n",
    "y.append(\"krishna\")\n",
    "family_members = tuple(y)\n",
    "\n",
    "# Assigning to family members\n",
    "\n",
    "print(\"Family Members : \",family_members)"
   ]
  },
  {
   "cell_type": "code",
   "execution_count": 2,
   "id": "a37b3777",
   "metadata": {},
   "outputs": [
    {
     "name": "stdout",
     "output_type": "stream",
     "text": [
      "IT Companies :  {'Apple', 'Oracle', 'IBM', 'Google', 'Amazon', 'Facebook', 'Microsoft'}\n",
      "Length :  7\n",
      "After Adding Twitter :  {'Apple', 'Oracle', 'IBM', 'Google', 'Amazon', 'Facebook', 'Twitter', 'Microsoft'}\n",
      "Adding Adding Items to Compaies :  {'Apple', 'Oracle', 'IBM', 'Google', 'Twitter', 'Microsoft', 'JPMC', 'Virtusa', 'Amazon', 'Facebook'}\n",
      "After Removing Virtusa from Set :  {'Apple', 'Oracle', 'IBM', 'Google', 'Twitter', 'Microsoft', 'JPMC', 'Amazon', 'Facebook'}\n",
      "After using discard function :  {'Apple', 'Oracle', 'IBM', 'Google', 'Twitter', 'Microsoft', 'JPMC', 'Amazon', 'Facebook'}\n",
      "Joining Set A and Set B :  {19, 20, 22, 24, 25, 26, 27, 28}\n",
      "Intersection of A and B :  {19, 20, 22, 24, 25, 26}\n",
      "A is subset of B :  True\n",
      "A is disjoint set of B :  False\n",
      "Joining A with B :  {19, 20, 22, 24, 25, 26, 27, 28}\n",
      "Joining B with A :  {19, 20, 22, 24, 25, 26, 27, 28}\n",
      "Symmetric Difference Between A and B :  {27, 28}\n",
      "set()\n",
      "set()\n",
      "Age : [22, 19, 24, 25, 26, 24, 25, 24]\n",
      "After converting age into set :  {19, 22, 24, 25, 26} <class 'set'>\n",
      "length of set age :  5\n",
      "length of list age :  8\n"
     ]
    }
   ],
   "source": [
    "#Question 4\n",
    "\n",
    "it_companies = {'Facebook', 'Google', 'Microsoft', 'Apple', 'IBM', 'Oracle', 'Amazon'}\n",
    "\n",
    "print(\"IT Companies : \", it_companies)\n",
    "#length of it_companies\n",
    "\n",
    "print(\"Length : \",len(it_companies))\n",
    "\n",
    "#Adding item to it_companies\n",
    "\n",
    "it_companies.add(\"Twitter\")\n",
    "print(\"After Adding Twitter : \",it_companies)\n",
    "\n",
    "it_companies_2 = { 'Virtusa', 'JPMC' }\n",
    "\n",
    "it_companies.update(it_companies_2)\n",
    "\n",
    "print(\"Adding Adding Items to Compaies : \",it_companies)\n",
    "\n",
    "#Removing item Virtusa\n",
    "\n",
    "it_companies.remove(\"Virtusa\")\n",
    "\n",
    "print(\"After Removing Virtusa from Set : \",it_companies)\n",
    "\n",
    "#Difference betweeb remove() and discard\n",
    "\n",
    "\"\"\" \n",
    "The Remove() and Discard() method used to delete the item in the set. The \n",
    "main differnece between remove() and discard() is remove() will raise an \n",
    "issue if the element is not availabe in the set but discard element does not \n",
    "raise an error if so. \n",
    "\"\"\"\n",
    "#Example : \n",
    "#Doesn't show any error\n",
    "it_companies.discard(\"Virtusa\")\n",
    "\n",
    "print(\"After using discard function : \", it_companies)\n",
    "\n",
    "#it_companies.remove(\"Virtusa\")\n",
    "\n",
    "# Shows Error if element is not available\n",
    "#print(\"After using remove function : \", it_companies)\n",
    "\n",
    "#Joining A and B\n",
    "\n",
    "A = {19, 22, 24, 20, 25, 26}\n",
    "\n",
    "B = {19, 22, 20, 25, 26, 24, 28, 27}\n",
    "\n",
    "C=A.union(B)\n",
    "print(\"Joining Set A and Set B : \",C)\n",
    "\n",
    "#InterSecting A and B\n",
    "\n",
    "C = A.intersection(B)\n",
    "print(\"Intersection of A and B : \", C)\n",
    " \n",
    "#Checking Weather Subset or not\n",
    "\n",
    "C= A.issubset(B)\n",
    "print(\"A is subset of B : \",C)\n",
    "\n",
    "#Checking weather A is disjoint set of B or not\n",
    "\n",
    "C= A.isdisjoint(B)\n",
    "print(\"A is disjoint set of B : \",C)\n",
    "\n",
    "#Joining A with B and B with A\n",
    "\n",
    "print(\"Joining A with B : \",A.union(B))\n",
    "\n",
    "print(\"Joining B with A : \",B.union(A))\n",
    "\n",
    "#Symmetric difference between A and B\n",
    "\n",
    "C = A.symmetric_difference(B)\n",
    "\n",
    "print(\"Symmetric Difference Between A and B : \",C)\n",
    "\n",
    "#Deleting sets completely\n",
    "\n",
    "A.clear()\n",
    "B.clear()\n",
    "\n",
    "print(A)\n",
    "print(B)\n",
    "\n",
    "#Converting ages into complete set\n",
    "\n",
    "age = [22, 19, 24, 25, 26, 24, 25, 24]\n",
    "\n",
    "print(\"Age :\",age)\n",
    "\n",
    "sage = set(age)\n",
    "\n",
    "print(\"After converting age into set : \",sage, type(sage))\n",
    "\n",
    "print(\"length of set age : \",len(sage))\n",
    "print(\"length of list age : \",len(age))"
   ]
  },
  {
   "cell_type": "code",
   "execution_count": 18,
   "id": "30e6e70e",
   "metadata": {},
   "outputs": [
    {
     "name": "stdout",
     "output_type": "stream",
     "text": [
      "The area of circle is :  94.2\n",
      "Circumference of circle is :  188.4\n",
      "\n",
      "Enter the radius 2\n",
      "12.56\n"
     ]
    }
   ],
   "source": [
    "#Question 5\n",
    "\n",
    "#Finding the area of circle (r=30)\n",
    "r=30\n",
    "\n",
    "area_of_circle = 3.14 * r\n",
    "\n",
    "print(\"The area of circle is : \", area_of_circle )\n",
    "\n",
    "circum_of_circle = 2 * 3.14 * r\n",
    "\n",
    "print(\"Circumference of circle is : \", circum_of_circle)\n",
    "\n",
    "print()\n",
    "\n",
    "input_radius = int(input(\"Enter the radius \"))\n",
    "\n",
    "area = 3.14 * input_radius*input_radius\n",
    "\n",
    "print(area)"
   ]
  },
  {
   "cell_type": "code",
   "execution_count": 11,
   "id": "316e71d0",
   "metadata": {},
   "outputs": [
    {
     "name": "stdout",
     "output_type": "stream",
     "text": [
      "The Given string is :  I am a teacher and I love to inspire and teach people\n",
      "The Total number of unique words are :  10\n"
     ]
    }
   ],
   "source": [
    "#Question 6\n",
    "#“I am a teacher and I love to inspire and teach people”\n",
    "\n",
    "#Declaring the string\n",
    "\n",
    "str = \"I am a teacher and I love to inspire and teach people\"\n",
    "str_1=str.split(' ')\n",
    "str_2=set(str_1)\n",
    "\n",
    "\n",
    "print(\"The Given string is : \", str)\n",
    "\n",
    "print(\"The Total number of unique words are : \",len(str_2))"
   ]
  },
  {
   "cell_type": "code",
   "execution_count": 12,
   "id": "0353e6e0",
   "metadata": {},
   "outputs": [
    {
     "name": "stdout",
     "output_type": "stream",
     "text": [
      "Name \t\t Age \t Country \t City\n",
      "Asabinah \t 250 \t Finland \t Helsinki\n"
     ]
    }
   ],
   "source": [
    "#Question 7\n",
    "#Printing According to the pattern\n",
    "print(\"Name \\t\\t Age \\t Country \\t City\")\n",
    "print(\"Asabinah \\t 250 \\t Finland \\t Helsinki\")"
   ]
  },
  {
   "cell_type": "code",
   "execution_count": 13,
   "id": "9673c8d2",
   "metadata": {},
   "outputs": [
    {
     "name": "stdout",
     "output_type": "stream",
     "text": [
      "The Area of Circle with radius 10 is 314.0 meters square.\n"
     ]
    }
   ],
   "source": [
    "#Question 8\n",
    "\n",
    "#Using String formatting method\n",
    "\n",
    "radius = 10\n",
    "area = 3.14 * radius ** 2\n",
    "print(\"The Area of Circle with radius {} is {} meters square.\".format(radius,area))"
   ]
  },
  {
   "cell_type": "code",
   "execution_count": 14,
   "id": "a35eda76",
   "metadata": {},
   "outputs": [
    {
     "name": "stdout",
     "output_type": "stream",
     "text": [
      "Enter number of weights : 2\n",
      "2\n",
      "3\n",
      "[2, 3]\n",
      "[0.0, 0.45359237]\n"
     ]
    }
   ],
   "source": [
    "#Question 9 \n",
    "\n",
    "#Declaring empty list\n",
    "l = []\n",
    "\n",
    "#Reading values of n\n",
    "  \n",
    "n = int(input(\"Enter number of weights : \"))\n",
    "  \n",
    "# iterating till the range\n",
    "for i in range(0, n):\n",
    "    ele = int(input())\n",
    "    \n",
    "    l.append(ele) # adding the element\n",
    "      \n",
    "print(l)\n",
    "\n",
    "kg=[]\n",
    "\n",
    "for i in range(0, n):\n",
    "    ele =0.45359237 * i\n",
    "    kg.append(ele)\n",
    "\n",
    "print(kg)"
   ]
  },
  {
   "cell_type": "code",
   "execution_count": null,
   "id": "325bcdff",
   "metadata": {},
   "outputs": [],
   "source": []
  },
  {
   "cell_type": "code",
   "execution_count": null,
   "id": "0757d709",
   "metadata": {},
   "outputs": [],
   "source": []
  }
 ],
 "metadata": {
  "kernelspec": {
   "display_name": "Python 3 (ipykernel)",
   "language": "python",
   "name": "python3"
  },
  "language_info": {
   "codemirror_mode": {
    "name": "ipython",
    "version": 3
   },
   "file_extension": ".py",
   "mimetype": "text/x-python",
   "name": "python",
   "nbconvert_exporter": "python",
   "pygments_lexer": "ipython3",
   "version": "3.9.12"
  }
 },
 "nbformat": 4,
 "nbformat_minor": 5
}
